{
 "cells": [
  {
   "cell_type": "markdown",
   "id": "891804b5-116b-45f7-aa0a-a5bf4e9ef6ef",
   "metadata": {},
   "source": [
    "## Basic usage 1: Module-level namespace\n",
    "\n",
    "The most basic use is just to import the library:\n",
    "\n",
    "```python\n",
    "import forallpeople as si\n",
    "```\n",
    "\n",
    "This will import the `Physical` class. It is the primary class in the module and is used to describe all physical quantities. \n",
    "`Physical` instances are **immutable**.\n",
    "\n",
    "Upon import, the SI base units are instantiated and are available in the namespace as the following variables:\n",
    "\n",
    "* `si.m` - meter\n",
    "* `si.kg` - kilogram\n",
    "* `si.s` - second\n",
    "* `si.A` - ampere\n",
    "* `si.cd` - candela\n",
    "* `si.K` - kelvin\n",
    "* `si.mol` - mole"
   ]
  },
  {
   "cell_type": "code",
   "execution_count": null,
   "id": "fa69d6df-8833-418b-97b4-0b727e04ed19",
   "metadata": {},
   "outputs": [],
   "source": []
  }
 ],
 "metadata": {
  "kernelspec": {
   "display_name": "forallpeople",
   "language": "python",
   "name": "forallpeople"
  },
  "language_info": {
   "codemirror_mode": {
    "name": "ipython",
    "version": 3
   },
   "file_extension": ".py",
   "mimetype": "text/x-python",
   "name": "python",
   "nbconvert_exporter": "python",
   "pygments_lexer": "ipython3",
   "version": "3.7.10"
  }
 },
 "nbformat": 4,
 "nbformat_minor": 5
}
