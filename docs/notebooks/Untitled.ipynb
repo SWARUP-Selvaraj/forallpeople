{
 "cells": [
  {
   "cell_type": "code",
   "execution_count": null,
   "id": "17a25a09-7d42-4da5-8435-d59d143463ea",
   "metadata": {},
   "outputs": [],
   "source": []
  },
  {
   "cell_type": "markdown",
   "id": "e0fb6b10-dab2-46d5-b582-5d7a6c7bf498",
   "metadata": {},
   "source": [
    "## Auto-scaling\n",
    "\n",
    "By convention, the [derived](Nomenclature.ipynb) quantities are often represented with prefix that scales the quantity to use a minimum number of digits, e.g. `103000.0 N` would be more commonly written as `103.0 kN` and `0.0000000000234 m` would be more commonly written as `23.4 pm`. `forallpeople` automatically represents base units, powers of base units, and recognized derived units with \"auto-scaling\" to follow a \"convention over configuration\" approach.\n",
    "\n",
    "```python\n",
    "12000 N -> 12 kN # A derived unit (and powers of derived units)\n",
    "0.000002 kg -> 2 mg # A base unit\n",
    "360000000 m² -> 360 km² # Powers of base units\n",
    "```\n",
    "\n",
    "The following units would never be auto-scaled or prefixed:\n",
    "\n",
    "```python\n",
    "12000 ft # There is no 'kft'\n",
    "20000000 kg·m·s⁻² # There is no Mkg·m·s⁻²\n",
    "```"
   ]
  },
  {
   "cell_type": "markdown",
   "id": "db76d640-b229-4318-80d4-f6a3db4c1251",
   "metadata": {},
   "source": [
    "## Setting Custom Prefixes\n",
    "\n",
    "You can use the `.prefix()` method to force the instance to be scaled to a given prefix. The prefix must be one of the [recognized prefixes]( in the SI unit system."
   ]
  }
 ],
 "metadata": {
  "kernelspec": {
   "display_name": "forallpeople",
   "language": "python",
   "name": "forallpeople"
  },
  "language_info": {
   "codemirror_mode": {
    "name": "ipython",
    "version": 3
   },
   "file_extension": ".py",
   "mimetype": "text/x-python",
   "name": "python",
   "nbconvert_exporter": "python",
   "pygments_lexer": "ipython3",
   "version": "3.7.10"
  }
 },
 "nbformat": 4,
 "nbformat_minor": 5
}
