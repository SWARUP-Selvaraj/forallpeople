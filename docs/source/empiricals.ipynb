{
 "cells": [
  {
   "cell_type": "markdown",
   "id": "296a21c0-86b3-498a-af11-23041d306a1f",
   "metadata": {},
   "source": [
    "# Dimensionally-inconsistent Calculations (Emperical formulae)"
   ]
  },
  {
   "cell_type": "code",
   "execution_count": null,
   "id": "74fa9e6e-0629-44fc-bd66-42484c097abf",
   "metadata": {},
   "outputs": [],
   "source": []
  }
 ],
 "metadata": {
  "kernelspec": {
   "display_name": "forallpeople",
   "language": "python",
   "name": "forallpeople"
  },
  "language_info": {
   "codemirror_mode": {
    "name": "ipython",
    "version": 3
   },
   "file_extension": ".py",
   "mimetype": "text/x-python",
   "name": "python",
   "nbconvert_exporter": "python",
   "pygments_lexer": "ipython3",
   "version": "3.7.10"
  }
 },
 "nbformat": 4,
 "nbformat_minor": 5
}
